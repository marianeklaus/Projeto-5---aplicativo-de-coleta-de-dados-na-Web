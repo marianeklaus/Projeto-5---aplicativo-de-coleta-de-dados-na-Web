{
 "cells": [
  {
   "cell_type": "markdown",
   "id": "fdb00a8c-e417-484a-8741-41b657c4c16a",
   "metadata": {},
   "source": [
    "# Módulo de busca de página - getter\n",
    "Prover uma função para buscar páginas na web com a seguinte assinatura."
   ]
  },
  {
   "cell_type": "code",
   "execution_count": 1,
   "id": "f9f495cf-0720-4aaa-9937-da09c23e726d",
   "metadata": {
    "tags": []
   },
   "outputs": [],
   "source": [
    "# Função get_web\n",
    "import requests\n",
    "\n",
    "from typing import Any\n",
    "\n",
    "def get_web(nome_pagina: str) -> Any:\n",
    "    \"\"\"Esta função busca uma função para buscar páginas na web.\"\"\"\n",
    "    pass\n",
    "    "
   ]
  },
  {
   "cell_type": "markdown",
   "id": "e1e74644-a1ed-4c5d-8020-554e9cfed9a7",
   "metadata": {
    "tags": []
   },
   "source": [
    "# Treinando na biblioteca Requests\n",
    "\n",
    "A referência está [aqui](https://requests.readthedocs.io/en/latest/user/quickstart/)"
   ]
  },
  {
   "cell_type": "code",
   "execution_count": 2,
   "id": "aa545c28-938f-4c76-b044-e8612c86f9e1",
   "metadata": {
    "tags": []
   },
   "outputs": [],
   "source": [
    "r = requests.get('https://api.github.com/events')\n",
    "# print(type(r))\n",
    "# print(r)\n",
    "#r.text"
   ]
  },
  {
   "cell_type": "code",
   "execution_count": 3,
   "id": "bc123441-2f74-48ab-a752-61d551a77cbf",
   "metadata": {
    "tags": []
   },
   "outputs": [
    {
     "ename": "UnidentifiedImageError",
     "evalue": "cannot identify image file <_io.BytesIO object at 0x000001208F64C540>",
     "output_type": "error",
     "traceback": [
      "\u001b[1;31m---------------------------------------------------------------------------\u001b[0m",
      "\u001b[1;31mUnidentifiedImageError\u001b[0m                    Traceback (most recent call last)",
      "Cell \u001b[1;32mIn[3], line 6\u001b[0m\n\u001b[0;32m      3\u001b[0m \u001b[38;5;28;01mfrom\u001b[39;00m \u001b[38;5;21;01mPIL\u001b[39;00m \u001b[38;5;28;01mimport\u001b[39;00m Image\n\u001b[0;32m      4\u001b[0m \u001b[38;5;28;01mfrom\u001b[39;00m \u001b[38;5;21;01mio\u001b[39;00m \u001b[38;5;28;01mimport\u001b[39;00m BytesIO\n\u001b[1;32m----> 6\u001b[0m i \u001b[38;5;241m=\u001b[39m Image\u001b[38;5;241m.\u001b[39mopen(BytesIO(r\u001b[38;5;241m.\u001b[39mcontent))\n",
      "File \u001b[1;32m~\\anaconda3\\Lib\\site-packages\\PIL\\Image.py:3283\u001b[0m, in \u001b[0;36mopen\u001b[1;34m(fp, mode, formats)\u001b[0m\n\u001b[0;32m   3281\u001b[0m     warnings\u001b[38;5;241m.\u001b[39mwarn(message)\n\u001b[0;32m   3282\u001b[0m msg \u001b[38;5;241m=\u001b[39m \u001b[38;5;124m\"\u001b[39m\u001b[38;5;124mcannot identify image file \u001b[39m\u001b[38;5;132;01m%r\u001b[39;00m\u001b[38;5;124m\"\u001b[39m \u001b[38;5;241m%\u001b[39m (filename \u001b[38;5;28;01mif\u001b[39;00m filename \u001b[38;5;28;01melse\u001b[39;00m fp)\n\u001b[1;32m-> 3283\u001b[0m \u001b[38;5;28;01mraise\u001b[39;00m UnidentifiedImageError(msg)\n",
      "\u001b[1;31mUnidentifiedImageError\u001b[0m: cannot identify image file <_io.BytesIO object at 0x000001208F64C540>"
     ]
    }
   ],
   "source": [
    "# Bynary response\n",
    "\n",
    "from PIL import Image\n",
    "from io import BytesIO\n",
    "\n",
    "i = Image.open(BytesIO(r.content))"
   ]
  },
  {
   "cell_type": "code",
   "execution_count": null,
   "id": "83832201-868e-497e-9675-5e4b8c0b3300",
   "metadata": {
    "tags": []
   },
   "outputs": [],
   "source": [
    "r = requests.get('https://api.github.com/events')\n",
    "r.json()"
   ]
  },
  {
   "cell_type": "code",
   "execution_count": null,
   "id": "b027cc1a-369f-4a16-b4a3-d744207eb353",
   "metadata": {
    "tags": []
   },
   "outputs": [],
   "source": [
    "r = requests.get('https://api.github.com/events', stream=True)\n"
   ]
  },
  {
   "cell_type": "code",
   "execution_count": null,
   "id": "8f2148a0-e6b9-421d-a1e3-f8ed83ee86d7",
   "metadata": {
    "tags": []
   },
   "outputs": [],
   "source": [
    "r.raw\n"
   ]
  },
  {
   "cell_type": "code",
   "execution_count": null,
   "id": "195b3f01-3a3f-4853-9318-46b4b315232f",
   "metadata": {
    "tags": []
   },
   "outputs": [],
   "source": [
    "r.raw.read(10)\n"
   ]
  },
  {
   "cell_type": "code",
   "execution_count": null,
   "id": "ca31a9f6-e4e7-42ec-a3b1-8bc64ad91d8c",
   "metadata": {
    "tags": []
   },
   "outputs": [],
   "source": [
    "with open(\"arquivo\", 'wb') as fd:\n",
    "    for chunk in r.iter_content(chunk_size=128):\n",
    "        fd.write(chunk)"
   ]
  },
  {
   "cell_type": "markdown",
   "id": "f92dbfa1-5c37-4a30-875f-a525c3be21ce",
   "metadata": {},
   "source": [
    "## Abrindo arquivos com Python"
   ]
  },
  {
   "cell_type": "code",
   "execution_count": 11,
   "id": "885a29d7-9a7a-4f2b-b5c1-20d98f84cba8",
   "metadata": {
    "tags": []
   },
   "outputs": [
    {
     "data": {
      "text/plain": [
       "<function StringIO.close()>"
      ]
     },
     "execution_count": 11,
     "metadata": {},
     "output_type": "execute_result"
    }
   ],
   "source": [
    "import io\n",
    "casa = \"A casa é bonita\"\n",
    "arquivo_casa = open(\"casa2.txt\", 'w')\n",
    "arquivo_casa = io.StringIO(casa)\n",
    "arquivo_casa.close"
   ]
  },
  {
   "cell_type": "code",
   "execution_count": 8,
   "id": "9be8cacf-a5c7-49e0-88d6-3fd14ba22ab8",
   "metadata": {
    "tags": []
   },
   "outputs": [],
   "source": [
    "import io\n",
    "arquivo_casa = io.StringIO(casa)"
   ]
  },
  {
   "cell_type": "code",
   "execution_count": 9,
   "id": "379c64c2-3966-42a4-a766-2f2a464de040",
   "metadata": {
    "tags": []
   },
   "outputs": [
    {
     "data": {
      "text/plain": [
       "<function StringIO.close()>"
      ]
     },
     "execution_count": 9,
     "metadata": {},
     "output_type": "execute_result"
    }
   ],
   "source": [
    "arquivo_casa.close"
   ]
  },
  {
   "cell_type": "code",
   "execution_count": null,
   "id": "f5316bef-347c-41c2-8ea1-b906d1907f25",
   "metadata": {},
   "outputs": [],
   "source": []
  }
 ],
 "metadata": {
  "kernelspec": {
   "display_name": "Python 3 (ipykernel)",
   "language": "python",
   "name": "python3"
  },
  "language_info": {
   "codemirror_mode": {
    "name": "ipython",
    "version": 3
   },
   "file_extension": ".py",
   "mimetype": "text/x-python",
   "name": "python",
   "nbconvert_exporter": "python",
   "pygments_lexer": "ipython3",
   "version": "3.11.5"
  }
 },
 "nbformat": 4,
 "nbformat_minor": 5
}
